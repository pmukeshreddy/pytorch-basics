{
  "nbformat": 4,
  "nbformat_minor": 0,
  "metadata": {
    "colab": {
      "provenance": [],
      "authorship_tag": "ABX9TyPLImA3Nx6vewDUI+8osaib",
      "include_colab_link": true
    },
    "kernelspec": {
      "name": "python3",
      "display_name": "Python 3"
    },
    "language_info": {
      "name": "python"
    }
  },
  "cells": [
    {
      "cell_type": "markdown",
      "metadata": {
        "id": "view-in-github",
        "colab_type": "text"
      },
      "source": [
        "<a href=\"https://colab.research.google.com/github/pmukeshreddy/pytorch-basics/blob/main/1.ipynb\" target=\"_parent\"><img src=\"https://colab.research.google.com/assets/colab-badge.svg\" alt=\"Open In Colab\"/></a>"
      ]
    },
    {
      "cell_type": "code",
      "execution_count": 1,
      "metadata": {
        "id": "U44zGEwLCLAu"
      },
      "outputs": [],
      "source": [
        "import torch"
      ]
    },
    {
      "cell_type": "code",
      "source": [
        "x = torch.empty(3)\n",
        "x1 = torch.empty(4,3)\n",
        "x2 = torch.empty(2,2,3)\n",
        "print(x)\n",
        "print(x1)\n",
        "print(x2)"
      ],
      "metadata": {
        "colab": {
          "base_uri": "https://localhost:8080/"
        },
        "id": "rO8f4cKRCRF_",
        "outputId": "621e4dc7-f412-4944-e7a6-2d00844e7f40"
      },
      "execution_count": 5,
      "outputs": [
        {
          "output_type": "stream",
          "name": "stdout",
          "text": [
            "tensor([1.6972e-35, 0.0000e+00, 1.5975e-43])\n",
            "tensor([[1.6972e-35, 0.0000e+00, 3.9236e-44],\n",
            "        [0.0000e+00,        nan, 0.0000e+00],\n",
            "        [1.3556e-19, 8.6462e+11, 3.2778e+09],\n",
            "        [1.4988e+10, 3.2522e+03, 1.3023e+01]])\n",
            "tensor([[[1.6973e-35, 0.0000e+00, 0.0000e+00],\n",
            "         [0.0000e+00, 0.0000e+00, 0.0000e+00]],\n",
            "\n",
            "        [[0.0000e+00, 0.0000e+00, 0.0000e+00],\n",
            "         [0.0000e+00, 0.0000e+00, 0.0000e+00]]])\n"
          ]
        }
      ]
    },
    {
      "cell_type": "code",
      "source": [
        "r = torch.rand(2,2)\n",
        "print(r)\n",
        "z = torch.zeros(2,2)\n",
        "print(z)"
      ],
      "metadata": {
        "colab": {
          "base_uri": "https://localhost:8080/"
        },
        "id": "_y8f-CsVCmJS",
        "outputId": "83a70a60-84f1-4d76-af25-cca4b648e0bb"
      },
      "execution_count": 7,
      "outputs": [
        {
          "output_type": "stream",
          "name": "stdout",
          "text": [
            "tensor([[0.5433, 0.3957],\n",
            "        [0.0263, 0.4899]])\n",
            "tensor([[0., 0.],\n",
            "        [0., 0.]])\n"
          ]
        }
      ]
    },
    {
      "cell_type": "code",
      "source": [
        "o = torch.ones(2,2,dtype=torch.int)\n",
        "print(o)"
      ],
      "metadata": {
        "colab": {
          "base_uri": "https://localhost:8080/"
        },
        "id": "yXaoHKtbDmZH",
        "outputId": "8fe445f7-06e8-44c5-a4fb-c3be0b5aafe6"
      },
      "execution_count": 9,
      "outputs": [
        {
          "output_type": "stream",
          "name": "stdout",
          "text": [
            "tensor([[1, 1],\n",
            "        [1, 1]], dtype=torch.int32)\n"
          ]
        }
      ]
    },
    {
      "cell_type": "code",
      "source": [
        "print(x2.size())"
      ],
      "metadata": {
        "colab": {
          "base_uri": "https://localhost:8080/"
        },
        "id": "ZAM0B3trEGcT",
        "outputId": "5fde9d01-95ef-4992-9dc1-bf395c85d384"
      },
      "execution_count": 10,
      "outputs": [
        {
          "output_type": "stream",
          "name": "stdout",
          "text": [
            "torch.Size([2, 2, 3])\n"
          ]
        }
      ]
    },
    {
      "cell_type": "code",
      "source": [
        "g = torch.tensor([12,1.2,3.4])\n",
        "print(g)"
      ],
      "metadata": {
        "colab": {
          "base_uri": "https://localhost:8080/"
        },
        "id": "i4HCrTMyEVuz",
        "outputId": "7f1ae1c9-8713-4495-a71d-1ac5e164140d"
      },
      "execution_count": 12,
      "outputs": [
        {
          "output_type": "stream",
          "name": "stdout",
          "text": [
            "tensor([12.0000,  1.2000,  3.4000])\n"
          ]
        }
      ]
    },
    {
      "cell_type": "markdown",
      "source": [
        "Addition "
      ],
      "metadata": {
        "id": "H7a1QZ0IFhp5"
      }
    },
    {
      "cell_type": "code",
      "source": [
        "q = torch.rand(2,2)\n",
        "w = torch.rand(2,2)\n",
        "e = q + w\n",
        "#or\n",
        "e = torch.add(q,w)\n",
        "print(q)\n",
        "print(w)\n",
        "print(e)"
      ],
      "metadata": {
        "colab": {
          "base_uri": "https://localhost:8080/"
        },
        "id": "rYGCgOzQE2L3",
        "outputId": "0d13b388-e82e-4f98-d65b-f7fa5a8b7b89"
      },
      "execution_count": 14,
      "outputs": [
        {
          "output_type": "stream",
          "name": "stdout",
          "text": [
            "tensor([[0.0046, 0.7482],\n",
            "        [0.2406, 0.1699]])\n",
            "tensor([[0.3293, 0.5965],\n",
            "        [0.9623, 0.3699]])\n",
            "tensor([[0.3339, 1.3447],\n",
            "        [1.2029, 0.5398]])\n"
          ]
        }
      ]
    },
    {
      "cell_type": "code",
      "source": [
        "#inpalce addtion\n",
        "\n",
        "w.add_(q)\n",
        "print(w)"
      ],
      "metadata": {
        "colab": {
          "base_uri": "https://localhost:8080/"
        },
        "id": "qkFtnbJeF0Xc",
        "outputId": "2b47b1af-39ca-4612-c66c-f573df4ad626"
      },
      "execution_count": 15,
      "outputs": [
        {
          "output_type": "stream",
          "name": "stdout",
          "text": [
            "tensor([[0.3339, 1.3447],\n",
            "        [1.2029, 0.5398]])\n"
          ]
        }
      ]
    },
    {
      "cell_type": "markdown",
      "source": [
        "subtraction"
      ],
      "metadata": {
        "id": "NSb30xJMGur5"
      }
    },
    {
      "cell_type": "code",
      "source": [
        "s = q - w\n",
        "#or\n",
        "s = torch.sub(q,w)\n",
        "print(s)\n",
        "\n",
        "w.sub_(q)\n",
        "print(w)"
      ],
      "metadata": {
        "colab": {
          "base_uri": "https://localhost:8080/"
        },
        "id": "Bc8a0iDEGWst",
        "outputId": "20f85f65-22c9-4c67-de48-b42f7cfefc10"
      },
      "execution_count": 18,
      "outputs": [
        {
          "output_type": "stream",
          "name": "stdout",
          "text": [
            "tensor([[-0.3247,  0.1517],\n",
            "        [-0.7218, -0.2001]])\n",
            "tensor([[ 0.3247, -0.1517],\n",
            "        [ 0.7218,  0.2001]])\n"
          ]
        }
      ]
    },
    {
      "cell_type": "markdown",
      "source": [
        "multiplication"
      ],
      "metadata": {
        "id": "MTQqcey5HJcn"
      }
    },
    {
      "cell_type": "code",
      "source": [
        "mul = q * w\n",
        "mul = torch.mul(q,w)\n",
        "print(mul)\n",
        "w.mul_(q)\n",
        "print(w)"
      ],
      "metadata": {
        "colab": {
          "base_uri": "https://localhost:8080/"
        },
        "id": "Scg8RcMLG4yQ",
        "outputId": "46de12e2-3aab-471e-91d4-9305b898c0ce"
      },
      "execution_count": 19,
      "outputs": [
        {
          "output_type": "stream",
          "name": "stdout",
          "text": [
            "tensor([[ 0.0015, -0.1135],\n",
            "        [ 0.1736,  0.0340]])\n",
            "tensor([[ 0.0015, -0.1135],\n",
            "        [ 0.1736,  0.0340]])\n"
          ]
        }
      ]
    },
    {
      "cell_type": "markdown",
      "source": [
        "divsion\n"
      ],
      "metadata": {
        "id": "MLh6bOsSH35q"
      }
    },
    {
      "cell_type": "code",
      "source": [
        "d = q / w\n",
        "d = torch.div(q,w)\n",
        "print(d)\n",
        "w.div_(q)\n",
        "print(w)"
      ],
      "metadata": {
        "colab": {
          "base_uri": "https://localhost:8080/"
        },
        "id": "_Af0GaemHwLv",
        "outputId": "a6b08164-2ba6-412b-f850-8a3de7d4a84e"
      },
      "execution_count": 20,
      "outputs": [
        {
          "output_type": "stream",
          "name": "stdout",
          "text": [
            "tensor([[ 3.0794, -6.5937],\n",
            "        [ 1.3855,  4.9985]])\n",
            "tensor([[ 0.3247, -0.1517],\n",
            "        [ 0.7218,  0.2001]])\n"
          ]
        }
      ]
    },
    {
      "cell_type": "markdown",
      "source": [
        "slicing"
      ],
      "metadata": {
        "id": "-pMkFnonI2hF"
      }
    },
    {
      "cell_type": "code",
      "source": [
        "sl = torch.rand(5,3)\n",
        "print(sl)\n",
        "print(sl[:,0])\n",
        "print(sl[1,:])\n",
        "print(sl[1,1].item())"
      ],
      "metadata": {
        "colab": {
          "base_uri": "https://localhost:8080/"
        },
        "id": "XlowJ2reIHUe",
        "outputId": "270883ce-a763-4593-a8fd-02b07cef8363"
      },
      "execution_count": 26,
      "outputs": [
        {
          "output_type": "stream",
          "name": "stdout",
          "text": [
            "tensor([[0.9869, 0.6642, 0.8112],\n",
            "        [0.9666, 0.6724, 0.3580],\n",
            "        [0.2634, 0.7835, 0.6053],\n",
            "        [0.3982, 0.2667, 0.6452],\n",
            "        [0.2215, 0.6034, 0.4739]])\n",
            "tensor([0.9869, 0.9666, 0.2634, 0.3982, 0.2215])\n",
            "tensor([0.9666, 0.6724, 0.3580])\n",
            "0.67238849401474\n"
          ]
        }
      ]
    },
    {
      "cell_type": "markdown",
      "source": [
        "reshaping"
      ],
      "metadata": {
        "id": "vKZheq-FJ4Lf"
      }
    },
    {
      "cell_type": "code",
      "source": [
        "q1 = torch.rand(4,4)\n",
        "w1 = q1.view(16)\n",
        "print(q1)\n",
        "print(w1)\n",
        "w2 = q1.view(-1,4)\n",
        "print(w2)"
      ],
      "metadata": {
        "colab": {
          "base_uri": "https://localhost:8080/"
        },
        "id": "Nr41OlFgJOCf",
        "outputId": "e974c6b5-1e2e-4f3f-c513-30937e05b7f9"
      },
      "execution_count": 31,
      "outputs": [
        {
          "output_type": "stream",
          "name": "stdout",
          "text": [
            "tensor([[0.1144, 0.7965, 0.0715, 0.3885],\n",
            "        [0.2609, 0.9916, 0.2310, 0.6149],\n",
            "        [0.5869, 0.0236, 0.6287, 0.8211],\n",
            "        [0.8185, 0.2263, 0.6384, 0.8398]])\n",
            "tensor([0.1144, 0.7965, 0.0715, 0.3885, 0.2609, 0.9916, 0.2310, 0.6149, 0.5869,\n",
            "        0.0236, 0.6287, 0.8211, 0.8185, 0.2263, 0.6384, 0.8398])\n",
            "tensor([[0.1144, 0.7965, 0.0715, 0.3885],\n",
            "        [0.2609, 0.9916, 0.2310, 0.6149],\n",
            "        [0.5869, 0.0236, 0.6287, 0.8211],\n",
            "        [0.8185, 0.2263, 0.6384, 0.8398]])\n"
          ]
        }
      ]
    },
    {
      "cell_type": "markdown",
      "source": [
        "numpy to torch and vice-versa"
      ],
      "metadata": {
        "id": "BNuhqUG5LA8T"
      }
    },
    {
      "cell_type": "code",
      "source": [
        "import numpy as np"
      ],
      "metadata": {
        "id": "LBuLklIkLazW"
      },
      "execution_count": 32,
      "outputs": []
    },
    {
      "cell_type": "code",
      "source": [
        "# tensor to numpy\n",
        "a = torch.ones(5)\n",
        "print(a)\n",
        "b = a.numpy()\n",
        "print(b)"
      ],
      "metadata": {
        "colab": {
          "base_uri": "https://localhost:8080/"
        },
        "id": "8sJs8D86KXN1",
        "outputId": "8e3e9fc4-4b12-4831-a0c5-c35bb94688b0"
      },
      "execution_count": 35,
      "outputs": [
        {
          "output_type": "stream",
          "name": "stdout",
          "text": [
            "tensor([1., 1., 1., 1., 1.])\n",
            "[1. 1. 1. 1. 1.]\n"
          ]
        }
      ]
    },
    {
      "cell_type": "code",
      "source": [
        "#numpy to tensor\n",
        "a1 = np.ones(5)\n",
        "print(a1)\n",
        "b1 = torch.from_numpy(a1)\n",
        "print(b1)"
      ],
      "metadata": {
        "colab": {
          "base_uri": "https://localhost:8080/"
        },
        "id": "WkR6F4jYMjp4",
        "outputId": "2be1aaad-a64f-4e07-c0df-3f2a9560f7e3"
      },
      "execution_count": 38,
      "outputs": [
        {
          "output_type": "stream",
          "name": "stdout",
          "text": [
            "[1. 1. 1. 1. 1.]\n",
            "tensor([1., 1., 1., 1., 1.], dtype=torch.float64)\n"
          ]
        }
      ]
    },
    {
      "cell_type": "code",
      "source": [],
      "metadata": {
        "id": "nt_TOqWwNWdD"
      },
      "execution_count": null,
      "outputs": []
    }
  ]
}